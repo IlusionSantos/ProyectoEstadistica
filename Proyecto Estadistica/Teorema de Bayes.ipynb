{
 "cells": [
  {
   "cell_type": "markdown",
   "metadata": {},
   "source": [
    "# <center> _Teorema de Bayes_ </center>"
   ]
  },
  {
   "cell_type": "markdown",
   "metadata": {},
   "source": [
    "## Definiciónes Importantes\n",
    "### Partición\n",
    "Definimos una partición sobre un conjunto $S$ como una colección de subconjuntos de S que complen con las siguientes caracteristicas:\n",
    "<ol>\n",
    "<li>$B_1 \\cup B_2 \\cup ... \\cup B_k = S$, osea, la union de todos los subconjuntos nos da como resultado $S$</li>\n",
    "<li>$B_i \\cap B_j = \\emptyset$ siempre que $i \\neq j$, osea, ningun elemento de S se repite entre los subconjutos</li>\n",
    "</ol>\n",
    "### Probabilidad de un Evento Utilizando Particiones\n",
    "Otro elemento que utilizaremos para la definición del Teorema de Bayes es poder expresar la probabilidad de un evento como una suma de probabilidades condicionales. Imaginemos que $A$ es un evento dentro de nuestro espacio muestral, vamos a demostrar lo siguiente:\n",
    "$$P(A)=\\sum_{i=1}^{k}{P(A|B_i)P(B_i)}$$\n",
    "#### Demostración\n",
    "Partimos de la siguiente igualdad: $$A = A \\cap S$$\n",
    "Ahora utilizamos la definición de partición para expresar $S$ de la siguiente forma:\n",
    "$$A = A \\cap (B_1 \\cup B_2 \\cup B_3 .... \\cup B_k)$$\n",
    "<br>\n",
    "Y utilizando las propiedades de conjuntos, reescribimos el miembro derecho de la ecuación de la siguiente forma:\n",
    "$$A = (A \\cap B_1) \\cup (A \\cap B_2) \\cup ... \\cup  (A \\cap B_k)$$\n",
    "<br>\n",
    "Escribimos entonces la probabilidad de estos eventos de la siguiente forma:\n",
    "$$P(A) = P((A \\cap B_1) \\cup (A \\cap B_2) \\cup ... \\cup  (A \\cap B_k))$$\n",
    "<br>\n",
    "Pero tenemos que tomar en cuenta que como la intersección de $B_i$ y $B_j$ es vacia, la intersección de $(A \\cap B_1)$ con $(A \\cap B_2)$ tambien es vacia, y concluimos que podemos despreciar las intersecciones al momento de calcular la probabilidad de esta unión, que nos quedaría de la siguiente forma:\n",
    "$$P(A) = P(A \\cap B_1) + P(A \\cap B_2) + ... +  (A \\cap B_k)$$\n",
    "<br>\n",
    "Compactamos la sumatoria:\n",
    "$$P(A) = \\sum_{i=1}^{k}{P(A \\cap B_i)}$$\n",
    "Y reescribimos la probabilidad de la intersección:\n",
    "$$P(A) = \\sum_{i=1}^{k}{P(A|B_i)P(B_i)}$$"
   ]
  },
  {
   "cell_type": "markdown",
   "metadata": {},
   "source": [
    "Definimos entonces el Teorema de Bayes, que nos permite calcular la probabilidad condicionada de un cierto evento $B_j$ dado que ucurrió un evento $A$ sin tener que calcular directamente la probabilidad de que ocurra dicho evento $A$:\n",
    "$$P(B_j|A)=\\frac{P(A|B_j)P(B_j)}{P(A)}$$\n",
    "Utilizando las definiciones anteriores llegamos a:\n",
    "$$P(B_j|A)=\\frac{P(A|B_j)P(B_j)}{\\sum_{i=1}^{k}{P(A|B_i)P(B_i)}}$$\n",
    "<br>\n",
    "Donde los subconjuntos $B_i$ forman una partición sobre el espacio muestral."
   ]
  },
  {
   "cell_type": "code",
   "execution_count": null,
   "metadata": {
    "collapsed": true
   },
   "outputs": [],
   "source": []
  }
 ],
 "metadata": {
  "kernelspec": {
   "display_name": "Python 3",
   "language": "python",
   "name": "python3"
  },
  "language_info": {
   "codemirror_mode": {
    "name": "ipython",
    "version": 3
   },
   "file_extension": ".py",
   "mimetype": "text/x-python",
   "name": "python",
   "nbconvert_exporter": "python",
   "pygments_lexer": "ipython3",
   "version": "3.6.3"
  }
 },
 "nbformat": 4,
 "nbformat_minor": 2
}
