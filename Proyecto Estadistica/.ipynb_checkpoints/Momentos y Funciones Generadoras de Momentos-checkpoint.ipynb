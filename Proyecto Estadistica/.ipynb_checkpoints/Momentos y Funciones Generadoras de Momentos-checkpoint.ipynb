{
 "cells": [
  {
   "cell_type": "markdown",
   "metadata": {},
   "source": [
    "# <center>_Momentos y Funciones Generadoras de Momentos_</center> "
   ]
  },
  {
   "cell_type": "markdown",
   "metadata": {},
   "source": [
    "## Los párametros $\\mu$ y $\\sigma$ son medidas descriptivas numéricas significativas que ubican el centro y describen la dispersión asociada a los valores de una variable aleatoria $Y$, pero no dan una caracterización única de la distribución de $Y$."
   ]
  },
  {
   "cell_type": "markdown",
   "metadata": {},
   "source": [
    "### Sea $Y$ una variable aleatoria con función de densidad de probabilidad $P(y)$, el $k$-ésimo momento de la variable aleatoria $Y$ respecto al origen se define como: <br> <br>$$E(Y^k)=\\mu_k'=\\displaystyle\\sum_{y_j}y_j^kP(y)$$"
   ]
  },
  {
   "cell_type": "markdown",
   "metadata": {},
   "source": [
    "### Notar que  el primer momento respecto al origen es: <br> <br> $$E(Y)=\\mu_1'=\\mu$$"
   ]
  },
  {
   "cell_type": "markdown",
   "metadata": {},
   "source": [
    "### Y que $\\mu_2'=E(Y^2)$, este fue utilizado en la determinación de $\\sigma^2=var(Y)$"
   ]
  },
  {
   "cell_type": "markdown",
   "metadata": {},
   "source": [
    "### Adémas el $k$-ésimo momento de la variable aleatoria $Y$ respecto a la media se define como: <br><br> $$E[(Y-\\mu)^k]=\\mu_k$$"
   ]
  },
  {
   "cell_type": "markdown",
   "metadata": {},
   "source": [
    "### Notar que $E[(Y-\\mu)^k]=\\mu_2=var(Y)=\\sigma^2$. Esto significa que el segundo momento respecto a la media es la varianza"
   ]
  },
  {
   "cell_type": "markdown",
   "metadata": {},
   "source": [
    "## <center>Igualdad Entre Variables Aleatorias</center>"
   ]
  },
  {
   "cell_type": "markdown",
   "metadata": {},
   "source": [
    "### Sean $X$ y $Y$ dos variables aleatorias tales que sus $n$ primeros momentos coinciden, esto es: <br><br> $$\\mu_{1X}'=\\mu_{1Y}';\\mbox{ }\\mu_{2X}'=\\mu_{2Y}';\\mbox{ }...;\\mu_{nX}'=\\mu_{nY}'$$"
   ]
  },
  {
   "cell_type": "markdown",
   "metadata": {},
   "source": [
    "### Se dice entonces que las variables aleatorias son \"iguales\""
   ]
  },
  {
   "cell_type": "markdown",
   "metadata": {},
   "source": [
    "## <center>Función Generadora de Momentos</center>"
   ]
  },
  {
   "cell_type": "markdown",
   "metadata": {},
   "source": [
    "### Dado $t\\in \\mathbb{R}$, la función generadora de momentos $m(t)$, para una variable aleatoria $Y$ se puede definir como: <br><br> $$E(e^{ty})=m(t)$$"
   ]
  },
  {
   "cell_type": "markdown",
   "metadata": {},
   "source": [
    "### <font color=\"#ff0000\">Se dice que la función generadora de momentos existe para $Y$, si existe una constante positiva $b$ tal que $m(t)$ es finita para $|t|<b$</font>"
   ]
  },
  {
   "cell_type": "markdown",
   "metadata": {},
   "source": [
    "### La razón por la cual $m(t)$ es llamada \"Función Generadora de Momentos\" se observa que al utilizar series podemos representar <br><br>$$e^{ty}=\\displaystyle\\sum_{k=0}^\\infty\\displaystyle\\frac{(ty)^k}{k!}=1+ty+\\displaystyle\\frac{t^2y^2}{2}+...$$"
   ]
  },
  {
   "cell_type": "markdown",
   "metadata": {},
   "source": [
    "### Suponiendo un $k$ finito (i.e. $k=1,2,3,...$) podemos escribir <br><br> $$E(e^{ty})=\\displaystyle\\sum_{y}e^{ty}P(y)=\\displaystyle\\sum_{y}(1+ty+\\displaystyle\\frac{t^2x^2}{2}+...)P(y)$$<br>$$E(e^{ty})=\\displaystyle\\sum_{y}P(y)+\\displaystyle\\sum_{y}tyP(y)+\\displaystyle\\sum_{y}\\displaystyle\\frac{t^2y^2}{2}P(y)+...$$<br>$$E(e^{ty})=1+t\\displaystyle\\sum_{y}yP(y)+\\displaystyle\\frac{t^2}{2}\\displaystyle\\sum_{y}y^2P(y)+...$$"
   ]
  },
  {
   "cell_type": "markdown",
   "metadata": {},
   "source": [
    "### Pero sabemos que $\\displaystyle\\sum_yyP(y)=\\mu_1'$ y $\\displaystyle\\sum_yy^2P(y)=\\mu_2'$"
   ]
  },
  {
   "cell_type": "markdown",
   "metadata": {},
   "source": [
    "### Por tanto <br> $$m(t)=E(e^{ty})=1+t\\mu_1'+\\displaystyle\\frac{t^2}{2}\\mu_2'+...$$"
   ]
  },
  {
   "cell_type": "markdown",
   "metadata": {},
   "source": [
    "### Ahora bien aun no se ha obtenido el momento de la variable aleatoria ya que tenemos terminos acompañando"
   ]
  },
  {
   "cell_type": "markdown",
   "metadata": {},
   "source": [
    "### Podemos decir entonces si $m(t)$ existe, entonces todo $k$ entero: <br><br> $$\\displaystyle\\frac{d^km(t)}{dt^k}\\Big|_{t=0}=m^{(k)}(0)=\\mu_k'$$"
   ]
  },
  {
   "cell_type": "markdown",
   "metadata": {},
   "source": [
    "### Donde $E(e^{ty})=m(t)$"
   ]
  },
  {
   "cell_type": "markdown",
   "metadata": {},
   "source": [
    "### Sabemos que $$m(t)=E(e^{ty})=1+t\\mu_1'+\\displaystyle\\frac{t^2}{2}\\mu_2'+...$$"
   ]
  },
  {
   "cell_type": "markdown",
   "metadata": {},
   "source": [
    "### Adémas $$\\displaystyle\\frac{d^k}{dt^k}(t^k)=k!$$"
   ]
  },
  {
   "cell_type": "markdown",
   "metadata": {},
   "source": [
    "### Por tanto $$m'(0)=\\mu_1'+\\displaystyle\\frac{2t}{2}\\mu_2'+...\\Big|_{t=0}=\\mu_1'$$"
   ]
  },
  {
   "cell_type": "markdown",
   "metadata": {},
   "source": [
    "### $$m''(0)=\\mu_2'+\\displaystyle\\frac{6t}{3!}\\mu_3'+...\\Big|_{t=0}=\\mu_2'$$"
   ]
  },
  {
   "cell_type": "markdown",
   "metadata": {},
   "source": [
    "### Por lo demostrado anteriormente es que decimos que $m(t)$ es función generadora de momentos ya que al derivarla y evaluarla en 0 obtenemos los momentos."
   ]
  },
  {
   "cell_type": "markdown",
   "metadata": {},
   "source": [
    "# Ejemplo 1"
   ]
  },
  {
   "cell_type": "markdown",
   "metadata": {},
   "source": [
    "## Demostrar $m(t)$ para la variable aleatoria que tiene distribución binomial con \"$n$\" pruebas y probabilidad de éxito $p$. Muestre que: $$m(t)=(pe^t+q)^n$$"
   ]
  },
  {
   "cell_type": "markdown",
   "metadata": {},
   "source": [
    "### Por definición $m(t)=E(e^{ty})=\\displaystyle\\sum_{y=0}^{n}e^{ty} \\displaystyle\\binom{n}{y}p^yq^{n-y}$"
   ]
  },
  {
   "cell_type": "markdown",
   "metadata": {},
   "source": [
    "### Podemos escribir $e^{ty}=(e^t)^y$ <br> Con esto $m(t)$ se puede escribir así $$m(t)=\\displaystyle\\sum_{y=0}^{n} \\displaystyle\\binom{n}{y}(e^tp)^yq^{n-y}$$"
   ]
  },
  {
   "cell_type": "markdown",
   "metadata": {},
   "source": [
    "### Utilizando el binomio de Newton $$m(t)=(pe^t+q)^n$$"
   ]
  },
  {
   "cell_type": "markdown",
   "metadata": {},
   "source": [
    "# Ejemplo 2"
   ]
  },
  {
   "cell_type": "markdown",
   "metadata": {},
   "source": [
    "## Utilizar la función generadora de momentos del ejemplo anterior para encontrar $E(Y)$ y $E(Y^2)$ y luevo $var(Y)$"
   ]
  },
  {
   "cell_type": "markdown",
   "metadata": {},
   "source": [
    "### La media $E(Y)=\\mu=\\mu_1'=m'(0)$ <br> Si nosotro derivamos $m(t)$ nos quedará $$m'(t)=n(pe^t+q)^{n-1}pe^t$$"
   ]
  },
  {
   "cell_type": "markdown",
   "metadata": {},
   "source": [
    "### Evaluamos $m'(t)$ con $t=0$ <br> $$m'(0)=n(pe^t+q)^{n-1}\\Big|_{t=0}=np(p+q)^{n-1}$$ <br> Pero sabemos que $p+q=1$"
   ]
  },
  {
   "cell_type": "markdown",
   "metadata": {},
   "source": [
    "### Por tanto: $$E(Y)=\\mu_1'=m'(0)=np$$"
   ]
  },
  {
   "cell_type": "markdown",
   "metadata": {},
   "source": [
    "### Tenemos que $E(Y^2)=\\mu_2'=m''(0)$"
   ]
  },
  {
   "cell_type": "markdown",
   "metadata": {},
   "source": [
    "### Si nosotro derivamos $m'(t)$ nos quedará $$m''(t)=n(n-1)(pe^t+q)^{n-2}(pe^t)^2+n(pe^t+q)^{n-1}pe^t$$"
   ]
  },
  {
   "cell_type": "markdown",
   "metadata": {},
   "source": [
    "### Evaluamos $m''(t)$ con $t=0$ <br> $$m''(0)=n(n-1)(pe^t+q)^{n-2}(pe^t)^2+n(pe^t+q)^{n-1}pe^tBig|_{t=0}=n(n-1)p^2(p+q)^{n-2}+np$$ <br> Pero sabemos que $p+q=1$"
   ]
  },
  {
   "cell_type": "markdown",
   "metadata": {},
   "source": [
    "### Por tanto: $$E(Y^2)=\\mu_2'=m''(0)=n(n-1)p^2+np$$"
   ]
  },
  {
   "cell_type": "markdown",
   "metadata": {},
   "source": [
    "### Entonces nuestra $var(Y)$ será: $$var(Y)=E(Y^2)-[E(Y)]^2=n(n-1)p^2+np-(np)^2=n^2p^2-np^2+np-n^2p^2=np(1-p)=npq$$"
   ]
  },
  {
   "cell_type": "markdown",
   "metadata": {},
   "source": [
    "# Ejemplo 3 \n",
    "## Si $Y$ tiene una distribución geométrica con probabilidad de éxito $=p$; encuentre $m(t)$"
   ]
  },
  {
   "cell_type": "markdown",
   "metadata": {},
   "source": [
    "### $$m(t)=E(e^{ty})=\\displaystyle\\sum_{y}e^{ty}q^{y-1}p=\\displaystyle\\sum_ye^{ty}q^yq^{-1}p$$ <br> $$m(t)=\\displaystyle\\frac{p}{q}\\displaystyle\\sum_{y=1}^{\\infty}(e^tq)^y$$"
   ]
  },
  {
   "cell_type": "markdown",
   "metadata": {},
   "source": [
    "### Nuevamente tenemos una serie geométrica $$m(t)=\\displaystyle\\frac{p}{q}\\displaystyle\\frac{e^tq}{1-e^tq}$$"
   ]
  }
 ],
 "metadata": {
  "kernelspec": {
   "display_name": "Python 3",
   "language": "python",
   "name": "python3"
  },
  "language_info": {
   "codemirror_mode": {
    "name": "ipython",
    "version": 3
   },
   "file_extension": ".py",
   "mimetype": "text/x-python",
   "name": "python",
   "nbconvert_exporter": "python",
   "pygments_lexer": "ipython3",
   "version": "3.6.4"
  }
 },
 "nbformat": 4,
 "nbformat_minor": 2
}
