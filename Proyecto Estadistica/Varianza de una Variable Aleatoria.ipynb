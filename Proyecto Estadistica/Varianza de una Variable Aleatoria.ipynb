{
 "cells": [
  {
   "cell_type": "markdown",
   "metadata": {
    "collapsed": true
   },
   "source": [
    "# <center>Varianza de una Variable Aleatoria</center>"
   ]
  },
  {
   "cell_type": "markdown",
   "metadata": {},
   "source": [
    "La varianza de una distribución de probabilidad es un valor que, en primera instancia, nos puede dar una noción de que tan dispersons estan los datos con respecto a la media. Una varianza mas grande indica que los datos pueden estar muy sseparados de la media, mientras que una varianza pequeña nos indica que los datos son mas constantes. Para una variable aleatoria $X$, que tenga una media $E(x) = \\mu$, vamos a definir la varianza $V(x)$ de la sigueinte forma:\n",
    "\n",
    "$$Var(x) = E[(x - \\mu)^2]$$"
   ]
  },
  {
   "cell_type": "markdown",
   "metadata": {},
   "source": [
    "Imaginemos entonces que existe una función de variable aleatoria $g(x)$ definida de la siguiente forma:\n",
    "$$g(x) = (x - \\mu)^2$$\n",
    "<br>\n",
    "La varianza de nuestra variable aleatoria $X$ esta dada entonces por\n",
    "$$Var(x) = E[g(x)]$$"
   ]
  },
  {
   "cell_type": "markdown",
   "metadata": {},
   "source": [
    "para encontrar la relación entre $X$ y $g(x)$, supongamos que $X$ toma valores $x_1,x_2,...,x_n$ y g(x) toma valores $g_1,g_2,...,g_m$ donde $m \\leq n$. Esto se debe a que mas de un valor de $X$ puede estar asociado a cierto valor en $g(x)$.\n",
    "\n",
    "Esto implica que la probabilidad de que $g(x)$ sea un valor $g_i$ es igual a la suma de as probabilidades de que $X$ tome un valor $x_j$ tal que $g(x_j) = g_i$, y lo representaremos con la siguiente notación:\n",
    "$$P[g(x) = g_i] = \\sum_{x_j:g(x_j) =g_i}^{}{p(x_i)}$$\n",
    "$$P[g(x) = g_i] = P^*{g_i}$$\n",
    "Esta es función de densidad de $g(x)$"
   ]
  },
  {
   "cell_type": "markdown",
   "metadata": {},
   "source": [
    "Y ahora que ya hemos calculado esto, podemos escribir el valor esperado de $g(x)$ de la siguiente forma:\n",
    "$$E[g(x)]=\\sum_{i=1}^{m}{g_ip^*(g_i)}$$\n",
    "<br>\n",
    "osea\n",
    "<br>\n",
    "$$E[g(x)]=\\sum_{i=1}^{m}{g_i\\sum_{x_j:g(x_j) =g_i}^{}{p(x_j)}}$$\n",
    "<br>\n",
    "Esta expresión la podemos reescribir como una doble sumatoria de la siguiente forma:\n",
    "$$E[g(x)]=\\sum_{i=1}^{m}{\\sum_{x_j:g(x_j) =g_i}^{}g_i{p(x_j)}}$$\n",
    "<br>\n",
    "Ahora bien, podemos expresar todos los $g_i$ en términos de $x_j$ ya que estan definidos de esta forma, y simplificamos\n",
    "una de las sumatorias. El resultado final nos quedaría de esta forma:\n",
    "$$E[g(x)]=\\sum_{j=1}^{n}{g(x_j)P(x_j)}$$"
   ]
  },
  {
   "cell_type": "markdown",
   "metadata": {},
   "source": [
    "Y, a partir de esta demostración, podemos expresar la varianza de una variable aleatoria de la siguiente forma:\n",
    "$$Var(x) = \\sum_{j=1}^{n}{(x_j - \\mu)^2P(x_j)}$$"
   ]
  },
  {
   "cell_type": "code",
   "execution_count": null,
   "metadata": {
    "collapsed": true
   },
   "outputs": [],
   "source": []
  }
 ],
 "metadata": {
  "kernelspec": {
   "display_name": "Python 3",
   "language": "python",
   "name": "python3"
  },
  "language_info": {
   "codemirror_mode": {
    "name": "ipython",
    "version": 3
   },
   "file_extension": ".py",
   "mimetype": "text/x-python",
   "name": "python",
   "nbconvert_exporter": "python",
   "pygments_lexer": "ipython3",
   "version": "3.6.3"
  }
 },
 "nbformat": 4,
 "nbformat_minor": 2
}
