{
 "cells": [
  {
   "cell_type": "markdown",
   "metadata": {},
   "source": [
    "# <center>Momentos y Funciones Generadoras de Momentos VAC</center>"
   ]
  },
  {
   "cell_type": "markdown",
   "metadata": {},
   "source": [
    "## Definición\n",
    "Vamos a definir el k-ésimo momento de una variable aleatoria continua, con función de densidad $f(x)$, utilizando la siguiente ecuación:\n",
    "$$E(X^k)=\\mu_k^{'}=\\int_{-\\infty}^{\\infty}{e^{tx}f(x)dx}$$\n",
    "<br>\n",
    "\n",
    "La razón de la integral se debe a que tenemos variables continuas, entonces no podemos utilizar sumatorias como con las variables discretas."
   ]
  },
  {
   "cell_type": "markdown",
   "metadata": {},
   "source": [
    "Esta integral se puede expandir utilizando la definición de la función exponencial y quedaría de la siguiente forma:\n",
    "$$E(e^{tx})=\\int_{-\\infty}^{\\infty}{(1+tx+\\frac{t^2x^2}{2!}+\\frac{t^3x^3}{3!}+...)f(x)dx}$$\n",
    "<br>\n",
    "Que al simplificarla y resolverla, nos queda de la siguiente manera:\n",
    "$$=1+t\\mu_1^{'}+t^2\\mu_2^{'}+t^3\\mu_3^{'}+...$$\n",
    "donde $\\mu_k^{'}$ es el k-ésimo momento"
   ]
  },
  {
   "cell_type": "markdown",
   "metadata": {},
   "source": [
    "## Función Generadora de Momentos para una Variable con Distribución Gamma\n",
    "\n",
    "Como ya vimos, la función generadora de momentos se define como \n",
    "$$m(t) = E(e^{tx})$$\n",
    "y para el caso de la función Gamma:\n",
    "$$m(t)=\\int_{0}^{\\infty}{e^{tx}\\frac{x^{\\alpha-1}e^{\\frac{-x}{\\beta}}}{\\beta^\\alpha\\Gamma(\\alpha)}dx}$$\n",
    "\n",
    "Simplificando un poco, obtenemos:\n",
    "\n",
    "$$m(t)=\\frac{1}{\\beta^\\alpha\\Gamma(\\alpha)}\\int_{0}^{\\infty}{x^{\\alpha-1}e^{tx-\\frac{x}{\\beta}}dx}$$"
   ]
  },
  {
   "cell_type": "markdown",
   "metadata": {},
   "source": [
    "Vamos ahora a definir $\\beta'$ de la siguiente manera:\n",
    "\n",
    "$$\\beta'= \\frac{\\beta}{1-\\beta t}$$\n",
    "\n",
    "de tal forma que la función generadora de momento quedará de la siguiente forma: \n",
    "\n",
    "$$m(t)=\\frac{1}{\\beta^\\alpha\\Gamma(\\alpha)}\\int_{0}^{\\infty}{x^{\\alpha-1}e^{\\frac{-x}{\\beta'}}dx}$$\n",
    "\n",
    "que, podemos observar, es una función Gamma, pero con valor $\\beta'$ en vez de $\\beta$"
   ]
  },
  {
   "cell_type": "markdown",
   "metadata": {},
   "source": [
    "Así, la función generadora de momento de la distribución Gamma toma la siguiente forma:\n",
    "$$m(t)=\\frac{\\beta'^\\alpha\\Gamma(\\alpha)}{\\beta^\\alpha\\Gamma(\\alpha)}$$\n",
    "<br>\n",
    "Las funciones Gamma se simplifican y podemos volver a sustituir $\\beta'$ para obtener el siguiente resultado:\n",
    "$$m(t)=\\frac{(\\frac{\\beta}{1-\\beta t})^\\alpha}{\\beta^\\alpha}$$\n",
    "<br>\n",
    "Simplificamos $\\beta^\\alpha$ arriba y abajo y terminamos con:\n",
    "$$m(t)=\\frac{1}{(1-\\beta t)^\\alpha}$$\n",
    "<br>\n",
    "Que es la función generadora de momentos para la distribución Gamma"
   ]
  },
  {
   "cell_type": "code",
   "execution_count": null,
   "metadata": {
    "collapsed": true
   },
   "outputs": [],
   "source": []
  }
 ],
 "metadata": {
  "kernelspec": {
   "display_name": "Python 3",
   "language": "python",
   "name": "python3"
  },
  "language_info": {
   "codemirror_mode": {
    "name": "ipython",
    "version": 3
   },
   "file_extension": ".py",
   "mimetype": "text/x-python",
   "name": "python",
   "nbconvert_exporter": "python",
   "pygments_lexer": "ipython3",
   "version": "3.6.3"
  }
 },
 "nbformat": 4,
 "nbformat_minor": 2
}
