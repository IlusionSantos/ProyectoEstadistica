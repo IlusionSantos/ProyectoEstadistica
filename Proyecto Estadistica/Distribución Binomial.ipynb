{
 "cells": [
  {
   "cell_type": "markdown",
   "metadata": {},
   "source": [
    "# <center>Distribución Binomial</center>"
   ]
  },
  {
   "cell_type": "markdown",
   "metadata": {},
   "source": [
    "## Definición\n",
    "### Experimento binomial\n",
    "<ol>\n",
    "<li value=1>Consta de $n$ pruebas idénticas.</li>\n",
    "<li>Cada prueba tiene $2$ posibles resultado: \"Éxito\" $(E)$ y \"Fracaso\" $(F)$.</li>\n",
    "<li>La probabilidad de tener éxito en una prueba es $p$ y es constante para todas las pruebas. La probabilidad del fracaso es $q=1-p$.</li>\n",
    "<li>Cada prueba es independiente de otra.</li>\n",
    "<li>La variable aleatoria $X$ asociada cuenta el número de éxitos obtenidos en las $n$ pruebas.</li>\n",
    "</ol>"
   ]
  },
  {
   "cell_type": "markdown",
   "metadata": {},
   "source": [
    "$$X:E \\rightarrow \\{ 0,1,2,...,n\\}$$\n",
    "<b>Punto muestral</b><br>\n",
    "    $EEEFEFFEEEEFFFEEFF...$ con un total de $n$ pruebas.<br>\n",
    "Reordenando:<br>\n",
    "$EEEEEEE...  FFFFFF$ con un total de $x$ veces los éxitos y un total de $n-x$ veces los fracasos.<br>\n",
    "No importa el orden en que se dieron los éxitos y los fracasos. Por lo que con las respectivas probabilidades se obtiene:<br><br>\n",
    "$$p*p*...p*q*q*...*q =p^xq^{n-x}$$\n",
    "<br>\n",
    "<ul>\n",
    "<li type=\"circle\">Cualquier otro punto muestral con $p$ éxitos aparecerá con una combinación de los $E$ y $F$.</li>\n",
    "<li type=\"circle\">Combinaciones de $n$ pruebas tomadas de $x$ en $x$ es $\\displaystyle\\binom{n}{x}$</li>\n",
    "</ul>"
   ]
  },
  {
   "cell_type": "markdown",
   "metadata": {},
   "source": [
    "Por lo que la probabilidad de una Distribución Binomial es:<br>\n",
    "$$p(x)=\\displaystyle\\binom{n}{x}p^xq^{n-x}$$\n",
    "Donde los parámetros de la Distribución Binomial son $n$ y $p$."
   ]
  },
  {
   "cell_type": "markdown",
   "metadata": {},
   "source": [
    "### Propiedades\n",
    "<ol>\n",
    "<li value=1>$p(x)\\ge 0, \\forall x = 0,1,2,...,n$</li>\n",
    "<li>$\\displaystyle\\sum_{i=0}^n p(x) = \\displaystyle\\sum_{i=0}^n\\displaystyle\\binom{n}{x}p^xq^{n-x}=(p+q)^n=1$</li>\n",
    "</ol>"
   ]
  },
  {
   "cell_type": "markdown",
   "metadata": {},
   "source": [
    "## Ejemplo\n",
    "Un examen de opción múltiple tiene 15 preguntas, cada una con cinco posibles respuestas, sólo una de las cuales es correcta. Suponga que uno de los estudiantes que hace el examen contesta cada una de las preguntas con una adivinación aleatoria independiente. ¿Cuál es la probabilidad de que conteste correctamente al menos diez preguntas?\n",
    "\n",
    "#### Solución\n",
    "La probabilidad que tiene cada una de las opciones de cada pregunta es de: $0.2$ ya que hay $5$ opciones.<br>\n",
    "Denotamos la variable aleatoria $X$ con el número de preguntas correctas.<br>\n",
    "$X$ es una Distribución binomal con $n=15$ y con $p=0.2$.<br>\n",
    "$$P(X\\ge10)= 1 - P(X<10)=1-P(X\\le9)$$ \n"
   ]
  },
  {
   "cell_type": "code",
   "execution_count": 17,
   "metadata": {
    "collapsed": false
   },
   "outputs": [
    {
     "data": {
      "text/plain": [
       "0.9998867743375368"
      ]
     },
     "execution_count": 17,
     "metadata": {},
     "output_type": "execute_result"
    }
   ],
   "source": [
    "def factorial(num):\n",
    "    res=1\n",
    "    for mult in range(1,num+1):\n",
    "        res=res*mult\n",
    "    return res\n",
    "\n",
    "def combinacion(n,r):\n",
    "    com = factorial(n)/(factorial(n-r)*factorial(r))\n",
    "    return com\n",
    "\n",
    "def binom(n,p,x):\n",
    "    prob = combinacion(n,x)*(p**x)*(1-p)**(n-x)\n",
    "    return prob\n",
    "\n",
    "def probAcum(n,p,x):\n",
    "    res = 0\n",
    "    for i in range(x+1):\n",
    "        res += binom(n,p,i)\n",
    "    return res\n",
    "\n",
    "probAcum(15,0.2,9)"
   ]
  },
  {
   "cell_type": "markdown",
   "metadata": {},
   "source": [
    "$$P(X\\ge10)=1-P(X\\le9)=1-0.999886$$"
   ]
  },
  {
   "cell_type": "code",
   "execution_count": 18,
   "metadata": {
    "collapsed": false
   },
   "outputs": [
    {
     "data": {
      "text/plain": [
       "0.00011322566246318999"
      ]
     },
     "execution_count": 18,
     "metadata": {},
     "output_type": "execute_result"
    }
   ],
   "source": [
    "1-probAcum(15,0.2,9)"
   ]
  },
  {
   "cell_type": "markdown",
   "metadata": {},
   "source": [
    "$$P(X\\ge10)=0.00011$$"
   ]
  },
  {
   "cell_type": "markdown",
   "metadata": {},
   "source": [
    "## <center> Media y Varianza de la Binomial </center> "
   ]
  },
  {
   "cell_type": "markdown",
   "metadata": {},
   "source": [
    "Sea $X$ una variable aleatoria binomial con $n$ pruebas y $x$ éxitos con probabilidad $p$. Entonces la media $\\mu$ y la varianza $\\sigma^2$ están dadas por:<br>\n",
    "\n",
    "$$\\mu=E(X)=np$$\n",
    "$$Var(X)=\\sigma^2=npq=np(1-p)$$\n",
    "<br>\n",
    "### Demostración de la media\n",
    "<b>Recordando</b><br>\n",
    "<ol>\n",
    "<li value=1>Definición de la media: $\\mu=E(X)=\\displaystyle\\sum_{x=0}^nxp(x)$</li>\n",
    "<li>Para una binomial: $p(x)=\\displaystyle\\binom{n}{x}p^xq^{n-x}$</li>\n",
    "<li>$\\displaystyle\\sum_{x=0}^np(x)=\\displaystyle\\sum_{x=0}^n\\displaystyle\\binom{n}{x}p^xq^{n-x}=1$</li>\n",
    "</ol>"
   ]
  },
  {
   "cell_type": "markdown",
   "metadata": {},
   "source": [
    "Comenzando la definición de la media:<br>\n",
    "$$\\mu=E(X)=\\displaystyle\\sum_{x=0}^nxp(x)=\\displaystyle\\sum_{x=1}^nx\\displaystyle\\binom{n}{x}p^xq^{n-x}$$<br>\n",
    "El término con $x=0$ se hace $0$ ya que $0*\\displaystyle\\binom{n}{0}p^0q^{n-0}=0$<br>\n",
    "$$=\\displaystyle\\sum_{x=1}^nx\\frac{n!}{(n-x)!x!}p^xq^{n-x}$$\n",
    "Por definición de factorial:<br>\n",
    "$n!=n(n-1)!$<br>\n",
    "Entonces:<br>\n",
    "$\\displaystyle\\frac{x}{x!}=\\displaystyle\\frac{x}{x(x-1)!}=\\displaystyle\\frac{1}{(x-1)!}$<br>\n",
    "Y por definición de potencia:<br> $p^x=p*p^{x-1}$<br>\n",
    "Por lo que tenemos:\n",
    "$$=\\displaystyle\\sum_{x=1}^n\\displaystyle\\frac{n(n-1)!}{(n-x)!(x-1)!}pp^{x-1}q^{n-x}$$\n",
    "Sacando las constantes $n$ y $p$ tenemos:<br>\n",
    "$$=np\\displaystyle\\sum_{x=1}^n\\displaystyle\\frac{(n-1)!}{(n-x)!(x-1)!}p^{x-1}q^{n-x}$$\n",
    "Definiendo una nueva variable:<br>\n",
    "$m=n-1$<br>\n",
    "$y=x-1$<br><br>\n",
    "Operando $m-y$:<br>\n",
    "$m-y=n-1-(x-1)=n-1-x+1=n-x$<br><br>\n",
    "Y los rangos cambian para la nueva variable $y$:<br>\n",
    "$0\\le y\\le n-1$<br><br>\n",
    "Todo se reescribe como:\n",
    "$$\\mu=np\\displaystyle\\sum_{y=0}^m\\displaystyle\\frac{m!}{(m-y)!y!}p^yq^{m-y}=np\\displaystyle\\sum_{y=0}^m\\displaystyle\\binom{m}{y}p^yq^{m-y}$$<br><br>\n",
    "Recordando que la sumatoria del lado derecho es igual a la probabilidad de una distribución binomial $y$ y la suma de las probabilidades es igual a $1$ tenemos:\n",
    "$$np(1)=np$$<br><br>\n",
    "<b>Conclusión:</b>\n",
    "<table WIDTH=150>\n",
    "<tr>\n",
    "<td><center>$\\mu=E(X)=np$</center></td>\n",
    "<tr>\n",
    "</table>"
   ]
  },
  {
   "cell_type": "markdown",
   "metadata": {},
   "source": [
    "### Demostración de la Varianza\n",
    "<b>Lema 1</b><br>\n",
    "$var(X)=E[(X-\\mu)^2]=E(X^2)-\\mu^2$<br><br>\n",
    "<b>Lema 2</b><br>\n",
    "$E[X(X-1)]=E(X^2-X)=E(X^2)-E(X)=E(^2)-\\mu$<br>\n",
    "$\\therefore E(X^2)=E[X(X-1)]+\\mu$<br><br>\n",
    "\n",
    "Ahora podemos demostrar la varianza usando estos lemas. <br>\n",
    "Partiendo de:\n",
    "$$E[X(X-1)]=\\displaystyle\\sum_{x=0}^nx(x-1)p(x)$$<br>\n",
    "\n",
    "Sustituyendo $p(x)$ por la probabilidad de una distribución binomialn, tomando en cuenta que si evaluamos la sumatoria con $x=0$ el resultado será $0$, y si evaluamos para $x=1$ el resultado también será $0$ por el factor $x-1$ que aparece dentro de la sumatoria por lo tanto la sumatoria empieza desde $x=2$:\n",
    "$$\\displaystyle\\sum_{x=2}^nx(x-1)\\displaystyle\\frac{n!}{(n-x)!x!}p^xq^{n-x}$$<br>\n",
    "\n",
    "Utilizando las siguientes simplificaciones:<br>\n",
    "<ol>\n",
    "<li value = 1>$\\displaystyle\\frac{x(x-1)}{x!}=\\displaystyle\\frac{x(x-1)}{x(x-1)(x-2)!}=\\displaystyle\\frac{1}{(x-2)!}$</li>\n",
    "<li>$n!=n(n-1)(n-2)!$</li>\n",
    "<li>$p^x=p^2p^{x-2}$</li>\n",
    "</ol>"
   ]
  },
  {
   "cell_type": "markdown",
   "metadata": {},
   "source": [
    "Sacando las constantes de la sumatoria:\n",
    "$$=n(n-1)p^2\\displaystyle\\sum_{x=2}^n\\displaystyle\\frac{(n-2)!}{(n-x)!(x-2)!}p^{x-2}q^{n-x}$$<br>\n",
    "Haciendo las siguientes sustituciones con nuevas variables:<br>\n",
    "$m=n-2$<br>\n",
    "$y=x-2$<br><br>\n",
    "Operando $m-y$:<br>\n",
    "$m-y=n-2-(x-2)=n-2-x+2=n-x$<br><br>\n",
    "Y los rangos cambian para la nueva variable $y$:<br>\n",
    "$0\\le y \\le n-2$<br><br>\n",
    "\n",
    "Todo se reescribe como:\n",
    "$$=n(n-1)p^2\\displaystyle\\sum_{y=0}^m\\displaystyle\\frac{m!}{(m-y)!y!}p^yq^{m-y}=n(n-1)p^2\\displaystyle\\sum_{y=0}^m\\displaystyle\\binom{m}{y}p^yq^{m-y}$$\n",
    "\n",
    "Recordando que la sumatoria del lado derecho es igual a la probabilidad de una distribución binomial $y$ y la suma de las probabilidades es igual a $1$ tenemos:<br>\n",
    "$$E[X(X-1)]=n(n-1)p^2$$<br><br>\n",
    "Entonces por el lema 2:<br>\n",
    "$$var(X)=E(X^2)-\\mu ^2=E[X(X-1)]+\\mu - \\mu^2$$<br>\n",
    "Como se demostró anteriormente que $\\mu=np$ entonces:<br>\n",
    "$$=n(n-1)p^2+np-(np)^2$$<br>\n",
    "Distribuyendo:\n",
    "$$=n^2p^2-np^2+np+n^2p^2$$<br>\n",
    "Eliminando términos semejantes:\n",
    "$$=np(1-p)$$<br>\n",
    "Como sabemos que $1-p=q$ entonces:\n",
    "$$=npq$$<br><br>\n",
    "<b>Conclusión:</b>\n",
    "<table WIDTH=170>\n",
    "<tr>\n",
    "<td><center>$var(X)=npq$</center></td>\n",
    "<tr>\n",
    "</table>"
   ]
  }
 ],
 "metadata": {
  "anaconda-cloud": {},
  "kernelspec": {
   "display_name": "Python [Root]",
   "language": "python",
   "name": "Python [Root]"
  },
  "language_info": {
   "codemirror_mode": {
    "name": "ipython",
    "version": 3
   },
   "file_extension": ".py",
   "mimetype": "text/x-python",
   "name": "python",
   "nbconvert_exporter": "python",
   "pygments_lexer": "ipython3",
   "version": "3.5.2"
  }
 },
 "nbformat": 4,
 "nbformat_minor": 0
}
