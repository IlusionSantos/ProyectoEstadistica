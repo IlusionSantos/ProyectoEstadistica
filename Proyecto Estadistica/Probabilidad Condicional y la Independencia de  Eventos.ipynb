{
 "cells": [
  {
   "cell_type": "markdown",
   "metadata": {},
   "source": [
    "# <center>_Probabilidad Condicional y la Independencia de Eventos_</center>"
   ]
  },
  {
   "cell_type": "markdown",
   "metadata": {},
   "source": [
    "# Probabilidad Condicional"
   ]
  },
  {
   "cell_type": "markdown",
   "metadata": {},
   "source": [
    "## La probabilidad de un evento en ocasiones dependerá de si sabemos que anteriormente haya ocurrido un evento. Para mostrar esto usaremos el siguiente ejemplo:"
   ]
  },
  {
   "cell_type": "markdown",
   "metadata": {},
   "source": [
    "### Una mujer es portadora de la enfermedad de Duchenne, ¿Cuál es la probabilidad de que su próximo hijo tenga la enfermedad?"
   ]
  },
  {
   "cell_type": "markdown",
   "metadata": {},
   "source": [
    "Según las leyes de Mendel, todos los posibles genotipos de un hijo de una madre portadora (xX) y un padre normal (XY) son: \n",
    "<table>\n",
    "\t<tr>\n",
    "\t\t<th colspan=\"3\">Genotipos Posibles </th>\n",
    "\t</tr>\n",
    "\t<tr>\n",
    "\t\t<td></td>\n",
    "\t\t<td><font color=\"#0000ff\">X</font></td>\n",
    "\t\t<td><font color=\"#0000ff\">Y</font></td>\n",
    "\t</tr>\n",
    "\t<tr>\n",
    "        <td><font color=\"#0000ff\">x</font></td>\n",
    "\t\t<td>xX</td>\n",
    "\t\t<td>xY</td>\n",
    "\t</tr>\n",
    "    <tr>\n",
    "        <td><font color=\"#0000ff\">X</font></td>\n",
    "\t\t<td>XX</td>\n",
    "\t\t<td>XY</td>\n",
    "\t</tr>\n",
    "</table>\n",
    "y tienen la misma probabilidad.\n",
    "El espacio muestral es $$W = \\{xX, xY, XX, XY\\}$$ \n",
    "el suceso $A=\\{\\mbox{hijo enfermo}\\}$ corresponde al genotipo xY, por tanto, su probabilidad es $P(A) = \\displaystyle\\frac{1}{4} = 0.25$"
   ]
  },
  {
   "cell_type": "markdown",
   "metadata": {},
   "source": [
    "## Ahora bien vamos a buscar cuando la mujer tiene el hijo y es varón, ¿Qué probabilidad hay de que tenga la enfermedad?"
   ]
  },
  {
   "cell_type": "markdown",
   "metadata": {},
   "source": [
    "Se define el suceso $B = \\{\\mbox{ser varón}\\} = \\{xY, XY\\}$ la probabilidad pedida es la probabilidad de A dado B ($P(A|B)$) entonces:\n",
    "Calculamos primero la probabilidad de que sea varón:\n",
    "$$P(B) = 0.5$$  \n",
    "Después necesitamos la probabilidad de que sea varón y tenga la enfermedad:\n",
    "$$A\\cap B= \\{xY\\} \\qquad P(A \\cap B) = 0.25$$ \n",
    "Entonces la probabilidad que buscamos es:\n",
    "$$P(A|B) = \\frac{0.25}{0.5} = 0.5$$\n",
    "\n",
    "**Si sabemos que es varón, el espacio muestral ha cambiado, ahora es $B$.** Por lo tanto se puede calcular $P(A|B)$ aplicando la definición de probabilidad al nuevo espacio muestral \n",
    "$$P(A|B) = \\frac{1}{2} = 0.5$$ "
   ]
  },
  {
   "cell_type": "markdown",
   "metadata": {},
   "source": [
    "## Como observamos en la parte donde buscamos que sea varón y tenga la enfermedad la probabilidad esta siendo condicionada a que suceda el evento de que es varón y después que este tenga la enfermedad."
   ]
  },
  {
   "cell_type": "markdown",
   "metadata": {},
   "source": [
    "## La _probabilidad condicional_ de un evento $A$, dado que un evento $B$ ha ocurrido se escribe como $P(A|B)$, y se lee <font color=\"#000fff\">_la probabilidad de A dado B_</font>"
   ]
  },
  {
   "cell_type": "markdown",
   "metadata": {},
   "source": [
    "## $$P(A|B)=\\frac{P(A\\cap B)}{P(B)} \\quad \\mbox{ó} \\quad P(B|A)=\\frac{P(A\\cap B)}{P(A)} $$"
   ]
  },
  {
   "cell_type": "markdown",
   "metadata": {},
   "source": [
    "## siempre que $P(B)>0$."
   ]
  },
  {
   "cell_type": "markdown",
   "metadata": {},
   "source": [
    "## Cuando ocurre un evento cambia el espacio muestral, por eso cambia la probabilidad. A veces es más fácil calcular la probabilidad condicionada teniendo en cuenta este cambio de espacio muestral. "
   ]
  },
  {
   "cell_type": "markdown",
   "metadata": {},
   "source": [
    "# Independencia de Eventos"
   ]
  },
  {
   "cell_type": "markdown",
   "metadata": {},
   "source": [
    "## La independencia de los eventos se da cuando ocurre un evento $A$ el cual no se ve afectado porque ocurra o no ocurra el evento $B$.  Cuando esto sucede, estaríamos inclinados a decir que los eventos $A$ y $B$ son independientes."
   ]
  },
  {
   "cell_type": "markdown",
   "metadata": {},
   "source": [
    "## Por ello podemos definir lo siguiente:"
   ]
  },
  {
   "cell_type": "markdown",
   "metadata": {},
   "source": [
    "## Se dice que dos eventos $A$ y $B$ son _independientes_ si se cumple cualquiera de los siguientes casos:"
   ]
  },
  {
   "cell_type": "markdown",
   "metadata": {},
   "source": [
    "## $$P(A|B) = P(A)$$"
   ]
  },
  {
   "cell_type": "markdown",
   "metadata": {},
   "source": [
    "## $$P(B|A) = P(B)$$"
   ]
  },
  {
   "cell_type": "markdown",
   "metadata": {},
   "source": [
    "## $$P(A\\cap B) = P(A)P(B)$$"
   ]
  },
  {
   "cell_type": "markdown",
   "metadata": {},
   "source": [
    "## De otro modo los eventos seran _dependientes_"
   ]
  },
  {
   "cell_type": "markdown",
   "metadata": {},
   "source": [
    "## Para mostrar esto usaremos el siguiente ejemplo:"
   ]
  },
  {
   "cell_type": "markdown",
   "metadata": {},
   "source": [
    "### Considere los siguientes eventos en el tiro de un solo dado:\n",
    "    A: observar un número impar.\n",
    "    B: observar un número par.\n",
    "    C: observar un 1 o 2."
   ]
  },
  {
   "cell_type": "markdown",
   "metadata": {},
   "source": [
    "### ¿$A$ y $B$ son independientes? ¿$A$ y $C$ son independientes?"
   ]
  },
  {
   "cell_type": "markdown",
   "metadata": {},
   "source": [
    "Para definir si $A$ y $B$ son independientes, se debe satisfacer las condiciones definidas anteriormente."
   ]
  },
  {
   "cell_type": "markdown",
   "metadata": {},
   "source": [
    "Para este ejemplo, $P(A)=\\displaystyle\\frac{1}{2}$, $P(B)=\\displaystyle\\frac{1}{2}$ y $P(C)=\\displaystyle\\frac{1}{3}$."
   ]
  },
  {
   "cell_type": "markdown",
   "metadata": {},
   "source": [
    "Como $A\\cap B = \\emptyset$"
   ]
  },
  {
   "cell_type": "markdown",
   "metadata": {},
   "source": [
    "Entonces $P(A|B)=0$"
   ]
  },
  {
   "cell_type": "markdown",
   "metadata": {},
   "source": [
    "\n",
    "Lo cual hace evidente que $P(A|B)\\neq P(A)$. Como conclusión entonces los eventos $A$ y $B$ son dependientes."
   ]
  },
  {
   "cell_type": "markdown",
   "metadata": {},
   "source": [
    "Para definir si $A$ y $C$ son independientes, se debe satisfacer las condiciones definidas anteriormente."
   ]
  },
  {
   "cell_type": "markdown",
   "metadata": {},
   "source": [
    "Entonces empezamos por $P(A|C)=\\displaystyle\\frac{1}{2}$ y, como antes, $P(A)=\\displaystyle\\frac{1}{2}$."
   ]
  },
  {
   "cell_type": "markdown",
   "metadata": {},
   "source": [
    "Por tanto $P(A|C)=P(A)$, lo que indica que $A$ y $C$ son eventos independientes."
   ]
  }
 ],
 "metadata": {
  "kernelspec": {
   "display_name": "Python 3",
   "language": "python",
   "name": "python3"
  },
  "language_info": {
   "codemirror_mode": {
    "name": "ipython",
    "version": 3
   },
   "file_extension": ".py",
   "mimetype": "text/x-python",
   "name": "python",
   "nbconvert_exporter": "python",
   "pygments_lexer": "ipython3",
   "version": "3.6.4"
  }
 },
 "nbformat": 4,
 "nbformat_minor": 2
}
