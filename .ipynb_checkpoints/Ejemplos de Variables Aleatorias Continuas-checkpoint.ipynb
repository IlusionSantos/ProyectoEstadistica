{
 "cells": [
  {
   "cell_type": "markdown",
   "metadata": {},
   "source": [
    "# <center>_Ejemplos Utilizando Variables Aleatorias Continuas_</center>"
   ]
  },
  {
   "cell_type": "markdown",
   "metadata": {},
   "source": [
    "## Ejemplo 1"
   ]
  },
  {
   "cell_type": "markdown",
   "metadata": {},
   "source": [
    "### <center>Sea $X$ una variable aleatoria continua con función de densidad de probabilidad dada por <br> <br> $$f(x)= \\left\\{\\begin{array}{cc} cx & 0\\leq x \\leq 2\\\\ 0 & \\mbox{Si }x\\notin [0,2] \\end{array} \\right. $$ </center>"
   ]
  },
  {
   "cell_type": "markdown",
   "metadata": {},
   "source": [
    "### <left>a) Encontrar el valor de $c$ tal que efectivamente $f$ es la función de densidad de probabilidad <br>b) Encontrar $F$   <br>c) Graficar $f$ y $F$ <br>d) Usar $F$ para encontrar $P(1\\leq x \\leq 2)$ <br>e) Usar $f$ para encontrar $P(1\\leq x\\leq 2)$</left>"
   ]
  },
  {
   "cell_type": "markdown",
   "metadata": {},
   "source": [
    "### a) Encontar el valor de $c$ tal que efectivamente $f$ es la función de densidad de probabilidad"
   ]
  },
  {
   "cell_type": "markdown",
   "metadata": {},
   "source": [
    "Para obtener el valor adecuado de $c$ se deben cumplir con dos propiedades:\n",
    "<br> 1. $f(x)\\geq 0 \\Rightarrow c\\geq 0$\n",
    "<br> 2. $\\displaystyle\\int_{-\\infty}^{\\infty}f(x)dx=1 \\Rightarrow \\displaystyle\\int_{-\\infty}^{0}0dx+\\displaystyle\\int_{0}^{2}cxdx+\\displaystyle\\int_{2}^{\\infty}0dx=1 $"
   ]
  },
  {
   "cell_type": "markdown",
   "metadata": {},
   "source": [
    "<center>Por tanto: $\\displaystyle\\int_{-\\infty}^{\\infty}f(x)dx=\\displaystyle\\int_{-\\infty}^{0}0dx+\\displaystyle\\int_{0}^{2}cxdx+\\displaystyle\\int_{2}^{\\infty}0dx=\\displaystyle\\frac{cx^2}{2}\\Big|_0^2 \\Rightarrow 2c=1 \\Rightarrow c=\\displaystyle\\frac{1}{2}$</center>"
   ]
  },
  {
   "cell_type": "markdown",
   "metadata": {},
   "source": [
    "$$f(x)=\\left\\{\\begin{array}{cc} \\frac{1}{2}x & 0\\leq x \\leq 2\\\\ 0 & \\mbox{Si }x\\notin [0,2] \\end{array} \\right.$$"
   ]
  },
  {
   "cell_type": "markdown",
   "metadata": {},
   "source": [
    "### b) Encontrar $F$"
   ]
  },
  {
   "cell_type": "markdown",
   "metadata": {},
   "source": [
    "Sabemos que:\n",
    "<br> $F(x)=\\displaystyle\\int_{-\\infty}^{x}f(t)dt$"
   ]
  },
  {
   "cell_type": "markdown",
   "metadata": {},
   "source": [
    "<center>Para el intervalo de $-\\infty\\leq x < 0$\n",
    "    <br>$F(x)=\\displaystyle\\int_{-\\infty}^{x}0dt$=0</center>"
   ]
  },
  {
   "cell_type": "markdown",
   "metadata": {},
   "source": [
    "<center>Para el intervalo de $0\\leq x \\leq 2$\n",
    "    <br>$F(x)=\\displaystyle\\int_{-\\infty}^{0}0dt+\\displaystyle\\int_{0}^{x}\\displaystyle\\frac{1}{2}tdt=\\displaystyle\\frac{t^2}{4}\\Big|_0^x=\\displaystyle\\frac{x^2}{4}$</center>"
   ]
  },
  {
   "cell_type": "markdown",
   "metadata": {},
   "source": [
    "<center>Para el intervalo de $2< x \\leq \\infty$\n",
    "    <br>$F(x)=\\displaystyle\\int_{-\\infty}^{0}0dt+\\displaystyle\\int_{0}^{2}\\displaystyle\\frac{1}{2}tdt+\\displaystyle\\int_{2}^{x}0dt=\\displaystyle\\frac{t^2}{4}\\Big|_0^2=1$</center>"
   ]
  },
  {
   "cell_type": "markdown",
   "metadata": {},
   "source": [
    "$$F(x)=\\left\\{\\begin{array}{cc} 0 & -\\infty\\leq x < 0\\\\ \\displaystyle\\frac{x^2}{4} & 0\\leq x\\leq 2 \\\\ 1 & 2 < x\\leq\\infty \\end{array} \\right.$$"
   ]
  },
  {
   "cell_type": "markdown",
   "metadata": {},
   "source": [
    "### c) Graficar $f$ y $F$"
   ]
  },
  {
   "cell_type": "markdown",
   "metadata": {},
   "source": [
    "Función $f(x)$\n",
    "<img src=\"f(x).png\">"
   ]
  },
  {
   "cell_type": "markdown",
   "metadata": {},
   "source": [
    "Función $F(x)$\n",
    "<img src=\"F(x)d.png\">"
   ]
  },
  {
   "cell_type": "markdown",
   "metadata": {},
   "source": [
    "### d) Usar $F$ para encontrar $P(1\\leq x \\leq 2)$"
   ]
  },
  {
   "cell_type": "markdown",
   "metadata": {},
   "source": [
    "Para solucionar esto sabemos que:\n",
    "<br>$P(1\\leq x \\leq 2)=F(2)-F(1)=\\displaystyle\\frac{2^2}{4}-\\displaystyle\\frac{1^2}{4}=1-\\displaystyle\\frac{1}{4}=\\displaystyle\\frac{3}{4}$"
   ]
  },
  {
   "cell_type": "markdown",
   "metadata": {},
   "source": [
    "### e) Usar $f$ para encontrar $P(1\\leq x \\leq 2)$"
   ]
  },
  {
   "cell_type": "markdown",
   "metadata": {},
   "source": [
    "Para solucionar esto sabemos que:\n",
    "<br>$P(1\\leq x \\leq 2)=\\displaystyle\\int_{1}^{2}\\displaystyle\\frac{1}{2}xdx=\\displaystyle\\frac{x^2}{4}\\Big|_1^2=\\displaystyle\\frac{1}{4}(4-1)=\\displaystyle\\frac{3}{4}$"
   ]
  },
  {
   "cell_type": "markdown",
   "metadata": {},
   "source": [
    "# Ejemplo 2"
   ]
  },
  {
   "cell_type": "markdown",
   "metadata": {},
   "source": [
    "### <center>Un vendedor de Kerosén tiene un tanque de 150 galones, el cual es llenado cada principio de semana, su demanda semanual muestra un comportamiento de frecuencia relativa que crece constantemente de cero a 100 galones, nivelándose entre 100 y 150 galones. Si $X$ denota la demanda semanal en cientos de galones, la frecuencia relativa (densidad de distribución de probabilidad) puede ser modelada por: <br> <br> $$f(x)=\\left\\{\\begin{array}{cc} x & \\mbox{para }0\\leq x \\leq 1\\\\ 1 & \\mbox{para }1<x\\leq 1.5 \\\\ 0 & \\mbox{en otras partes} \\end{array} \\right.$$</center>"
   ]
  },
  {
   "cell_type": "markdown",
   "metadata": {},
   "source": [
    "### <left>a) Encontrar $F(x)$ en todos los puntos. <br>b) Encontrar $P(0\\leq x\\leq 0.5)$   <br>c) Encontrar $P(0.5\\leq x \\leq 1.2)$</left>"
   ]
  },
  {
   "cell_type": "markdown",
   "metadata": {},
   "source": [
    "### a) Encontrar $F(x)$ en todos los puntos."
   ]
  },
  {
   "cell_type": "markdown",
   "metadata": {},
   "source": [
    "Sabemos que:\n",
    "<br> $F(x)=\\displaystyle\\int_{-\\infty}^{x}f(t)dt$"
   ]
  },
  {
   "cell_type": "markdown",
   "metadata": {},
   "source": [
    "<center>Para el intervalo de $-\\infty\\leq x < 0$\n",
    "    <br>$F(x)=\\displaystyle\\int_{-\\infty}^{x}0dt=0$</center>"
   ]
  },
  {
   "cell_type": "markdown",
   "metadata": {},
   "source": [
    "<center>Para el intervalo de $0\\leq x \\leq 1$\n",
    "    <br>$F(x)=\\displaystyle\\int_{-\\infty}^{0}0dt+\\displaystyle\\int_{0}^{x}tdt=\\displaystyle\\frac{t^2}{2}\\Big|_0^x=\\displaystyle\\frac{x^2}{2}$</center>"
   ]
  },
  {
   "cell_type": "markdown",
   "metadata": {},
   "source": [
    "<center>Para el intervalo de $1\\leq x \\leq 1.5$\n",
    "    <br>$F(x)=\\displaystyle\\int_{\\infty}^{0}0dt+\\displaystyle\\int_{0}^{1}tdt+\\displaystyle\\int_{1}^{x}1dt=\\displaystyle\\frac{t^2}{2}\\Big|_0^1+t\\Big|_1^x=\\displaystyle\\frac{1}{2}+(x-1)=x-\\displaystyle\\frac{1}{2}$</center>"
   ]
  },
  {
   "cell_type": "markdown",
   "metadata": {},
   "source": [
    "<center>Para el intervalo de $1.5< x \\leq \\infty$\n",
    "    <br>$F(x)=\\displaystyle\\int_{-\\infty}^{0}0dt+\\displaystyle\\int_{0}^{1}tdt+\\displaystyle\\int_{1}^{1.5}1dt+\\displaystyle\\int_{1.5}^{x}0dt=\\displaystyle\\frac{t^2}{2}\\Big|_0^1+t\\Big|_1^{1.5}=\\displaystyle\\frac{1}{2}+(1.5-1)=1$</center>"
   ]
  },
  {
   "cell_type": "markdown",
   "metadata": {},
   "source": [
    "$$F(x)=\\left\\{\\begin{array}{cc} 0 & -\\infty\\leq x < 0\\\\ \\displaystyle\\frac{x^2}{2} & 0\\leq x\\leq 1 \\\\ x-\\displaystyle\\frac{1}{2} & 1 \\leq x\\leq 1.5 \\\\ 1 & 1.5< x \\leq\\infty \\end{array} \\right.$$"
   ]
  },
  {
   "cell_type": "markdown",
   "metadata": {},
   "source": [
    "### b) Encontrar $P(0\\leq x\\leq0.5)$"
   ]
  },
  {
   "cell_type": "markdown",
   "metadata": {},
   "source": [
    "Para solucionar esto sabemos que:\n",
    "<br>$P(0\\leq x \\leq 0.5)=F(0.5)-F(0)=\\displaystyle\\frac{0.5^2}{2}-\\displaystyle\\frac{0^2}{2}=\\displaystyle\\frac{1}{8}$"
   ]
  },
  {
   "cell_type": "markdown",
   "metadata": {},
   "source": [
    "### c) Encontrar $P(0.5\\leq x \\leq 1.2)$"
   ]
  },
  {
   "cell_type": "markdown",
   "metadata": {},
   "source": [
    "Para solucionar esto sabemos que:\n",
    "<br>$P(0.5\\leq x \\leq 1.2)=F(1.2)-F(0.5)=(1.2-\\displaystyle\\frac{1}{2})-\\displaystyle\\frac{0.5^2}{2}=0.7-\\displaystyle\\frac{1}{8}=0.575$"
   ]
  }
 ],
 "metadata": {
  "kernelspec": {
   "display_name": "Python 3",
   "language": "python",
   "name": "python3"
  },
  "language_info": {
   "codemirror_mode": {
    "name": "ipython",
    "version": 3
   },
   "file_extension": ".py",
   "mimetype": "text/x-python",
   "name": "python",
   "nbconvert_exporter": "python",
   "pygments_lexer": "ipython3",
   "version": "3.6.4"
  }
 },
 "nbformat": 4,
 "nbformat_minor": 2
}
