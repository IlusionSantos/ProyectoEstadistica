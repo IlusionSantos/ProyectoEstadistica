{
 "cells": [
  {
   "cell_type": "markdown",
   "metadata": {},
   "source": [
    "# <center>_Propiedades del Valor Esperado_</center>"
   ]
  },
  {
   "cell_type": "markdown",
   "metadata": {},
   "source": [
    "## Se le estará brindando algunas herramientas y definiciones adicionales antes de tratar de hallar el valores o varianzas esperadas de variables aleatorias discretás más complicadas, es así que se le presentan los siguientes tres teoremas. "
   ]
  },
  {
   "cell_type": "markdown",
   "metadata": {},
   "source": [
    "### Para cada teorema suponemos  que $Y$ es una variable aleatoria discreta con función de probabilidad $P(Y)$"
   ]
  },
  {
   "cell_type": "markdown",
   "metadata": {},
   "source": [
    "El **primer teorema** expresa el resultado de que la media o el valor esperado de una cantidad no aleatoria $c$ es igual a $c$"
   ]
  },
  {
   "cell_type": "markdown",
   "metadata": {},
   "source": [
    "<center>Sea $Y$ una variable discreta con función de probabilidad $P(y)$ y sea c una constante. Entonces $E(c)=c$.</center>"
   ]
  },
  {
   "cell_type": "markdown",
   "metadata": {},
   "source": [
    "<center>Por la definición de valor esperado sabemos que: <br> $E(c)=\\displaystyle\\sum_{y}cP(y)=c\\sum_{y}P(y)$</center>"
   ]
  },
  {
   "cell_type": "markdown",
   "metadata": {},
   "source": [
    "<center>Pero a su vez conocemos que: <br> $\\displaystyle\\sum_{y}P(y)=1$ <br> Por tanto: $E(c)=c(1)=c$</center>"
   ]
  },
  {
   "cell_type": "markdown",
   "metadata": {},
   "source": [
    "El **segundo teorema** expresa el valor esperado del producto de una constante $c$ por una función de una variable aleatoria es igual a la constante multiplicada por el valor esperado de la función de la variable."
   ]
  },
  {
   "cell_type": "markdown",
   "metadata": {},
   "source": [
    "<center>Sea $Y$ una variable aleatoria discreta con función de probabilidad $P(y)$, $g(Y)$ una función de $Y$ y $c$ una constante. Entonces $E[cg(Y)]=cE[g(Y)]$ </center>"
   ]
  },
  {
   "cell_type": "markdown",
   "metadata": {},
   "source": [
    "<center>Por la definición de valor esperado sabemos que: \n",
    "    <br> $E[cg(Y)]=\\displaystyle\\sum_{y}cg(y)P(y)$\n",
    "    <br> Al ser $c$ una constante sabemos que esta puede salir de la sumatoria \n",
    "    <br> $$E[cg(Y)]=c\\displaystyle\\sum_{y}g(y)P(y)$$\n",
    "    <br> Y se observa que:\n",
    "    <br> $\\displaystyle\\sum_{y}g(y)p(y)=E[g(Y)]$\n",
    "    <br> Por tanto: $E[cg(Y)]=cE[g(Y)]$ </center>"
   ]
  },
  {
   "cell_type": "markdown",
   "metadata": {},
   "source": [
    "El **tercer teorema** expresa que la media o el valor esperado de una suma de funciones de una variable aleatoria $Y$ es igual a la suma de sus respectivos valores esperados"
   ]
  },
  {
   "cell_type": "markdown",
   "metadata": {},
   "source": [
    "<center>Sea $Y$ una variable aleatoria discreta con función de probabilidad $P(y)$ y sean $g_1(Y)$, $g_2(Y)$,$...$, $g_k(Y)$ $k$ funciones de $Y$. \n",
    "    <br> Entonces $E[g_1(Y)+g_2(Y)+...+g_k(Y)]=E[g_1(Y)]+E[g_2(Y)]+...+E[g_k(Y)]$ </center>"
   ]
  },
  {
   "cell_type": "markdown",
   "metadata": {},
   "source": [
    "<center> Para este teorema demostraremos la prueba solo para el caso de $k=2$, pero han de saber que pasos análogos se cumplirán para cualquier $k$ finita.\n",
    "    <br> Por la definición de valor esperado sabemos que:\n",
    "    <br> $E[g_1(Y)+g_2(Y)]=\\displaystyle\\sum_{y}[g_1(y)+g_2(y)]P(y)$\n",
    "    <br> Utilizando la propiedad de distribución obtenemos:\n",
    "    <br> $E[g_1(Y)+g_2(Y)]=\\displaystyle\\sum_{y}[g_1(y)P(y)+g_2(y)P(y)]$ \n",
    "    <br> De esta misma manera utilizando propiedades de la sumatoria obtenemos:\n",
    "    <br> $E[g_1(Y)+g_2(Y)]=\\displaystyle\\sum_{y}g_1(y)P(y)+\\displaystyle\\sum_{y}g_2(y)P(y)$\n",
    "    <br> Y se observa que:\n",
    "    <br> $\\sum_{y}g_1(y)P(y)=E[g_1(Y)]$\n",
    "    <br> Por tanto: $E[g_1(Y)+g_2(Y)]=E[g_1(Y)]+E[g_2(Y)]$</center>"
   ]
  },
  {
   "cell_type": "markdown",
   "metadata": {},
   "source": [
    "### De los teoremas antes descritos se puede desarrollar un teorema útil para hallar la varianza de una variable aleatoria discreta"
   ]
  },
  {
   "cell_type": "markdown",
   "metadata": {},
   "source": [
    "<center>Sea $Y$ una variable aleatoria discreta con función de probabilidad $P(y)$ y media $E(y)=\\mu$.\n",
    "    <br>Entonces $V(Y)=\\sigma^2=E[(Y-\\mu)^2]=E[Y^2]-\\mu^2$ </center>"
   ]
  },
  {
   "cell_type": "markdown",
   "metadata": {},
   "source": [
    "<center>Conociendo que $\\sigma^2=E[(Y-\\mu)^2]$ expandimos el binomio obteniendo\n",
    "    <br> $\\sigma^2=E[(Y^2-2\\mu Y+\\mu^2)]$\n",
    "    <br> Aplicando el tercer teorema obtenemos\n",
    "    <br> $\\sigma^2=E(Y^2)-E(2\\mu Y)+E(\\mu^2)$ </center>"
   ]
  },
  {
   "cell_type": "markdown",
   "metadata": {},
   "source": [
    "<center>Si se observa que $\\mu$ es una constante y se aplican el primer y segundo teorema al tercer y segundo termino respectivamente, tenemos\n",
    "    <br>$\\sigma^2=E(Y^2)-2\\mu E(Y)+\\mu^2$ \n",
    "    <br>Pero $\\mu=E(Y)$\n",
    "    <br>Por tanto: $\\sigma^2=E(Y^2)-2\\mu^2+\\mu^2=E(Y^2)-\\mu^2$ </center>"
   ]
  },
  {
   "cell_type": "markdown",
   "metadata": {},
   "source": [
    "## Ejemplo"
   ]
  },
  {
   "cell_type": "markdown",
   "metadata": {},
   "source": [
    "### El gerente de una planta industrial está planeando comprar una nueva máquina ya sea del tipo $A$ o del $B$. Si $t$ denota el número de horas de operación diaria, el número $Y_1$ de reparaciones diarias requeridas para mantener una máquina de tipo $A$ es una variable aleatoria con media y varianza igules a $.10t$. El número $Y_2$ de reparaciones diarias para una máquina de tipo $B$ es una variable aleatoria con media y varianza iguales a $.12t$. El costo diario de operación $A$ es $C_A(t)=10t+30Y_{1}^{2}$; para $B$ es $C_B(t)=8t+30Y_{2}^{2}$. Suponga que las reparaciones toman un tiempo insignificante y que cada noche las máquinas se afinan para que puedan operar esencialmente como máquinas nuevas al empezar el día siguiente. ¿Cuál máquina minimiza el costo diario esperado si un día de trabajo consta de 10 horas?"
   ]
  },
  {
   "cell_type": "markdown",
   "metadata": {},
   "source": [
    "<center>El costo diario esperado para $A$ es:\n",
    "    <br> $E[C_A(t)]=E[10t+30Y_{1}^{2}]=10t+30E(Y_{1}^{2})$\n",
    "    <br> $E[C_A(t)]=10t+30\\{V(Y_1)+[E(Y_1)]^2\\}=10t+30[.10t+(.10t)^2]$\n",
    "    <br> $E[C_A(t)]=13t+.3t^2$</center>\n"
   ]
  },
  {
   "cell_type": "markdown",
   "metadata": {},
   "source": [
    "<center>En este cálculo, usamos los valores conocidos para $V(Y_1)$ y $E(Y_1)$ y el hecho de que $V(Y_1)=E(Y_{1}^{2})-[E(Y_1)]^2$ para obtener que $E(Y_{1}^{2})=V(Y_1)+[E(Y_1)]^2=.10t+(.10t)^2$.\n",
    "    <br> De manera similar</center>"
   ]
  },
  {
   "cell_type": "markdown",
   "metadata": {},
   "source": [
    "<center>El costo diario para $B$ es:\n",
    "    <br>$E[C_B(t)]= E[8t+30Y_{2}^{2}]= 8t+30E(Y_{2}^{2})$\n",
    "    <br>$E[C_B(t)]= 8t+30\\{V(Y_2)+[E(Y_2)]^2\\}=8t+30[.12t+(.12t)^2]$\n",
    "    <br>$E[C_B(t)]= 11.6t+.432t^2$</center>"
   ]
  },
  {
   "cell_type": "markdown",
   "metadata": {},
   "source": [
    "<center> Por tanto, para $t=10$ \n",
    "    <br>$E[C_A(10)]=60$ y $E[C_B(10)]=159.2$ </center>"
   ]
  }
 ],
 "metadata": {
  "kernelspec": {
   "display_name": "Python 3",
   "language": "python",
   "name": "python3"
  },
  "language_info": {
   "codemirror_mode": {
    "name": "ipython",
    "version": 3
   },
   "file_extension": ".py",
   "mimetype": "text/x-python",
   "name": "python",
   "nbconvert_exporter": "python",
   "pygments_lexer": "ipython3",
   "version": "3.6.4"
  }
 },
 "nbformat": 4,
 "nbformat_minor": 2
}
